{
 "cells": [
  {
   "cell_type": "code",
   "execution_count": 930,
   "metadata": {},
   "outputs": [],
   "source": [
    "#%matplotlib ipympl\n",
    "import numpy as np\n",
    "from scipy import signal\n",
    "from scipy.signal import find_peaks\n",
    "import matplotlib.pyplot as plt\n",
    "from matplotlib.font_manager import FontProperties\n",
    "import os\n",
    "import openpyxl \n",
    "from scipy.integrate import simps\n",
    "import adi\n",
    "import pandas as pd\n",
    "from tqdm import tqdm\n",
    "from scipy.stats import mannwhitneyu\n",
    "from scipy.ndimage import gaussian_filter1d"
   ]
  },
  {
   "cell_type": "code",
   "execution_count": 931,
   "metadata": {},
   "outputs": [],
   "source": [
    "font_path = 'C:\\\\Windows\\\\Fonts\\\\simsun.ttc'  # 宋體\n",
    "font_prop = FontProperties(fname=font_path)\n",
    "\n",
    "mode = 'save'   # 'show' or 'save'"
   ]
  },
  {
   "cell_type": "code",
   "execution_count": 932,
   "metadata": {},
   "outputs": [],
   "source": [
    "def butter(DataL, DataR, cut_low, cut_high, sample_rate, order):\n",
    "    nyqs = sample_rate * 0.5\n",
    "    H_cut = cut_high / nyqs\n",
    "    L_cut = cut_low / nyqs\n",
    "    sos = signal.butter(order, [L_cut, H_cut], analog=False, btype='bandpass', output='sos')\n",
    "    Filter_Left = signal.sosfiltfilt(sos, DataL)\n",
    "    Filter_Right = signal.sosfiltfilt(sos, DataR)\n",
    "    return Filter_Left, Filter_Right"
   ]
  },
  {
   "cell_type": "code",
   "execution_count": 933,
   "metadata": {},
   "outputs": [],
   "source": [
    "def bassel(DataL, DataR, cut_low, cut_high, sample_rate, order):\n",
    "    #貝塞爾\n",
    "    nyqs = sample_rate * 0.5\n",
    "    H_cut = cut_high / nyqs\n",
    "    L_cut = cut_low / nyqs\n",
    "    sos=signal.bessel(order, [L_cut, H_cut] ,  btype='bandpass',  analog=False,  output='sos')\n",
    "    Filter_Left = signal.sosfiltfilt(sos,  DataL) \n",
    "    Filter_Right = signal.sosfiltfilt(sos,  DataR) \n",
    "\n",
    "    return Filter_Left, Filter_Right"
   ]
  },
  {
   "cell_type": "code",
   "execution_count": 934,
   "metadata": {},
   "outputs": [],
   "source": [
    "def find_peak(Filter_Data):\n",
    "    valley_x, valley_y = find_peaks(Filter_Data * -1, height=0, distance=500)\n",
    "    cardiac_cycle = np.diff(valley_x)\n",
    "    peaks_x, peaks_y = find_peaks(Filter_Data, height=0, distance=500)\n",
    "    peaks_y = peaks_y['peak_heights']\n",
    "    valley_y = valley_y['peak_heights']\n",
    "    return peaks_x, peaks_y, valley_x, valley_y, cardiac_cycle"
   ]
  },
  {
   "cell_type": "code",
   "execution_count": 935,
   "metadata": {},
   "outputs": [],
   "source": [
    "def derivative(Data, Level, values=[]):\n",
    "    result = np.gradient(Data)\n",
    "\n",
    "    if Level == 0:\n",
    "        values.append(Data)\n",
    "        return 0\n",
    "    else:\n",
    "        values.append(Data)\n",
    "        return derivative(result, Level - 1, values)\n",
    "    \n",
    "def process_wave(cycle):\n",
    "    values = []\n",
    "    derivative(cycle, 3, values)\n",
    "    values = np.array(values)\n",
    "    origin, derivative_1, derivative_2, derivative_3 = values\n",
    "    derivative_1 = derivative_1 * 50\n",
    "    derivative_2 = derivative_2 * 5000\n",
    "    derivative_3 = derivative_3 * 100000\n",
    "\n",
    "    return [derivative_1, derivative_2, derivative_3]"
   ]
  },
  {
   "cell_type": "code",
   "execution_count": 936,
   "metadata": {},
   "outputs": [],
   "source": [
    "def Find_Path(path):\n",
    "\n",
    "    File_path = []\n",
    "\n",
    "    #find all Data_file path \n",
    "    for root,  subfolders,  filenames in os.walk(path):\n",
    "        for filename in filenames:\n",
    "            if filename.endswith('.txt'):\n",
    "                continue\n",
    "            filepath = root +'/'+ filename\n",
    "            new_filepath = filepath.replace(\"\\\\\", \"/\")\n",
    "            File_path.append(new_filepath)\n",
    "\n",
    "    return File_path"
   ]
  },
  {
   "cell_type": "code",
   "execution_count": 937,
   "metadata": {},
   "outputs": [],
   "source": [
    "def get_Imformation(path,locate, imformation=[]):\n",
    "    test=path.split('/')\n",
    "    Name = test[locate[0]]\n",
    "    Date = test[locate[1]]\n",
    "    State_check = test[locate[2]]\n",
    "    if State_check =='易堵':\n",
    "        State = '0'\n",
    "    else: \n",
    "        State = '1'\n",
    "\n",
    "    file_name = test[len(test)-1]\n",
    "    name_check = file_name.find('R')\n",
    "    if name_check != -1:\n",
    "        Status = 'Right'\n",
    "    else:\n",
    "        Status = 'Left'\n",
    "    \n",
    "    imformation =[Name, Date, State, Status]\n",
    "\n",
    "    return imformation, Name"
   ]
  },
  {
   "cell_type": "code",
   "execution_count": 938,
   "metadata": {},
   "outputs": [],
   "source": [
    "def plot(cycle_1, cycle_2, parameter, Name,i):\n",
    "    p = 0\n",
    "    def on_key(event):\n",
    "        if event.key == 'z':\n",
    "            plt.close()\n",
    "    if p == 0:\n",
    "        plt.plot(cycle_1, label='Left PPG')\n",
    "        plt.plot(cycle_2, label='Right PPG')\n",
    "    if p == 1:\n",
    "        print('not yet')\n",
    "\n",
    "    plt.title(f'{Name}, {i + 1}th Left_Right',fontproperties=font_prop)\n",
    "    plt.legend()\n",
    "    plt.grid()\n",
    "    if mode == 'show':\n",
    "        plt.show()\n",
    "    else:\n",
    "        plt.savefig(f'F:\\\\Python\\\\PPG\\\\Cycle\\\\{Name}, {i + 1}th Left_Right.jpg')\n",
    "\n",
    "    plt.gcf().canvas.mpl_connect('key_press_event', on_key)\n",
    "    plt.close()"
   ]
  },
  {
   "cell_type": "code",
   "execution_count": 939,
   "metadata": {},
   "outputs": [],
   "source": [
    "def plot_d1(derivative, Name, i, Feature):\n",
    "    \n",
    "    x = np.linspace(0, len(derivative[0]), len(derivative[0]))\n",
    "    plt.figure()\n",
    "    plt.plot(derivative[0])\n",
    "    plt.plot(x[Feature], derivative[0][Feature], '*', label='Peak')\n",
    "    plt.title(f'{Name}, {i + 1}th Left_Right',fontproperties=font_prop)\n",
    "    plt.legend()\n",
    "    plt.grid()\n",
    "    if mode == 'show':\n",
    "        plt.show()\n",
    "    else:\n",
    "        plt.savefig(f'F:\\\\Python\\\\PPG\\\\Cycle\\\\{Name}, {i + 1}th Left_Right.jpg')\n",
    "    #plt.show()"
   ]
  },
  {
   "cell_type": "code",
   "execution_count": 940,
   "metadata": {},
   "outputs": [],
   "source": [
    "def calculate_d1(derivative, Name, i, Feature):\n",
    "    #derivative = process_wave(cycle)\n",
    "    \n",
    "    d1_peak_x, d1_peak_y = find_peaks(derivative[0], height=0, distance=800)\n",
    "    d1_valley_x,d1_valley_y = find_peaks(derivative[0] * -1, height=0, distance=800)\n",
    "\n",
    "    d1_peak_y = d1_peak_y['peak_heights']\n",
    "    d1_valley_y = d1_valley_y['peak_heights']\n",
    "\n",
    "    print(d1_peak_y, d1_valley_y)\n",
    "\n",
    "\n",
    "    feature = [d1_peak_x, d1_valley_x]\n",
    "    # plot_d1(derivative, Name, i, feature)\n"
   ]
  },
  {
   "cell_type": "code",
   "execution_count": 941,
   "metadata": {},
   "outputs": [],
   "source": [
    "def plot_d2(origin, derivative, Name, i, Feature, hands):\n",
    "    \n",
    "    x = np.linspace(0, len(derivative[1]), len(derivative[1]))\n",
    "    plt.figure()\n",
    "    \n",
    "    plt.plot(origin)\n",
    "    plt.plot(derivative[1])\n",
    "    plt.plot(x[Feature], derivative[1][Feature], '*', label='Peak')\n",
    "    plt.title(f'{Name}, {i + 1}th {hands}',fontproperties=font_prop)\n",
    "    plt.legend()\n",
    "    plt.grid()\n",
    "    if mode == 'show':\n",
    "        plt.show()\n",
    "    else:\n",
    "        plt.savefig(f'F:\\\\TDPPG\\\\{Name}, {i + 1}th {hands}.jpg')\n",
    "        plt.close()"
   ]
  },
  {
   "cell_type": "markdown",
   "metadata": {},
   "source": [
    "d2"
   ]
  },
  {
   "cell_type": "code",
   "execution_count": 942,
   "metadata": {},
   "outputs": [],
   "source": [
    "def calculate_d2(origin, derivative, Name, i, hands):\n",
    "    TDPPG_x = np.where(np.diff(np.sign(derivative[2])))[0]\n",
    "    # 設置最小距離（例如，至少 10 個數據點）\n",
    "    min_distance = 30\n",
    "\n",
    "    def filter_by_distance(zero_crossings, min_distance):\n",
    "        filtered_crossings = []\n",
    "        last_index = -min_distance  # 初始化為一個遠距離的負數\n",
    "        \n",
    "        for index in zero_crossings:\n",
    "            if index - last_index >= min_distance:\n",
    "                filtered_crossings.append(index)\n",
    "                last_index = index\n",
    "        \n",
    "        return np.array(filtered_crossings)\n",
    "\n",
    "    # 過濾零點\n",
    "    TDPPG_x = filter_by_distance(TDPPG_x, min_distance)\n",
    "\n",
    "    closest_indices = []\n",
    "\n",
    "    a_point = np.array(find_peaks(derivative[1], height=0.6, distance=900)[0])\n",
    "\n",
    "\n",
    "    for num in a_point:\n",
    "        differences = np.abs(TDPPG_x - num)\n",
    "        closest_index = np.argmin(differences)\n",
    "        closest_indices.append(closest_index)\n",
    "    if len(closest_indices) < 2:  #判斷抓到兩個周期\n",
    "        plot_d2(origin, derivative, Name, i, TDPPG_x, hands)\n",
    "        print(f'{Name}, {i + 1}th',TDPPG_x[closest_indices])\n",
    "        return 0 \n",
    "    else:\n",
    "        TDPPG_x_new = TDPPG_x[closest_indices[0]:closest_indices[0]+6]\n",
    "        TDPPG_x_new = np.append(TDPPG_x_new, TDPPG_x[closest_indices[1]:closest_indices[1]+6])\n",
    "        if TDPPG_x_new[6] - TDPPG_x_new[5] < TDPPG_x_new[6] * 0.3: #判斷是否抓錯feature\n",
    "            plot_d2(origin, derivative, Name, i, TDPPG_x_new, hands)\n",
    "            print(f'{Name}, {i + 1}th {hands} cant find the feature')\n",
    "            return 0\n",
    "\n",
    "\n",
    "    if mode =='show':\n",
    "        plot_d2(origin,derivative, Name, i, TDPPG_x_new, hands)\n",
    "        print(TDPPG_x_new)\n",
    "    else:\n",
    "        np.savetxt(f'F:\\\\Patient_signal\\\\{Name}, {i + 1}th {hands} d2 feature.txt', TDPPG_x_new, fmt='%d', delimiter=' ', newline=' ')\n",
    "        \n",
    "    #plot_d2(origin, derivative, Name, i, TDPPG_x_new, hands)\n",
    "    return 1\n"
   ]
  },
  {
   "cell_type": "code",
   "execution_count": 943,
   "metadata": {},
   "outputs": [],
   "source": [
    "def resize_wave(waveform, Name, i, hands, target_length=2000):\n",
    "    quilty = 1\n",
    "\n",
    "    derivative = process_wave(waveform)\n",
    "\n",
    "    resized = signal.resample(waveform, target_length)\n",
    "    \n",
    "    for j in range(3):\n",
    "        derivative[j] = signal.resample(derivative[j], target_length)\n",
    "\n",
    "\n",
    "    # record = dict() #!需要一個dict紀錄每個特徵點\n",
    "    # record[f'{Name}, {i + 1}th Left'] = 100\n",
    "    # record[f'{Name}, {i + 1}th Right'] = 100\n",
    "    Feature = []\n",
    "\n",
    "    #quilty = calculate_d1(derivative, Name, i, Feature)\n",
    "    \n",
    "    quilty = calculate_d2(resized, derivative, Name, i, hands)\n",
    "\n",
    "    if mode == 'save' and quilty == 1:\n",
    "        np.save(f'F:\\\\Patient_signal\\\\{Name}, {i + 1}th {hands}.npy', resized)\n",
    "        #np.save(f'F:\\\\Patient_signal\\\\{Name}, {i + 1}th {hands} d1.npy', L_derivative[0])\n",
    "        np.save(f'F:\\\\Patient_signal\\\\{Name}, {i + 1}th {hands} d2.npy', derivative[1])"
   ]
  },
  {
   "cell_type": "code",
   "execution_count": 944,
   "metadata": {},
   "outputs": [],
   "source": [
    "def main(): #!for folder data\n",
    "\n",
    "    patient = 'normal' #!normal or patient\n",
    "    \n",
    "    channel1_id = 2\n",
    "    channel2_id = 4\n",
    "    record_id = 1\n",
    "\n",
    "    if patient == 'normal':\n",
    "        File_path = Find_Path(\"F:\\\\正常人Data\") #!正常人\n",
    "    else:\n",
    "        File_path = Find_Path(\"F:\\\\第二次收案\") #!病患\n",
    "    print('找到資料筆數', len(File_path))\n",
    "\n",
    "    Features = []\n",
    "    df_c = pd.DataFrame()\n",
    "    for j, path in tqdm(enumerate(File_path), total=len(File_path), desc='Processing'):\n",
    "        Data = adi.read_file(path)\n",
    "\n",
    "        Right = Data.channels[channel1_id - 1].get_data(record_id)\n",
    "        Left = Data.channels[channel2_id - 1].get_data(record_id)\n",
    "\n",
    "        Filter_Left,Filter_Right = butter(Left, Right, 0.5, 9, 1000, 4)\n",
    "\n",
    "        L_wave = Filter_Left[100000:120000] * 10\n",
    "        R_wave = Filter_Right[100000:120000] * 10\n",
    "\n",
    "        L_valley_x, L_valley_y = find_peaks(L_wave * -1, height=0, distance=150)\n",
    "        R_valley_x, R_valley_y = find_peaks(R_wave * -1, height=0, distance=150)\n",
    "\n",
    "        L_valley_y = L_valley_y['peak_heights']\n",
    "        R_valley_y = R_valley_y['peak_heights']\n",
    "\n",
    "        if patient == 'normal':\n",
    "            Imformation,Name = get_Imformation(path,locate=[2,3,4]) #!正常人\n",
    "        else:\n",
    "            Imformation,Name = get_Imformation(path,locate=[3,4,2]) #!病患\n",
    "\n",
    "        if len(L_valley_x) > len(R_valley_x): #找最小的cycle\n",
    "            min_cycle = len(R_valley_x)\n",
    "        else:\n",
    "            min_cycle = len(L_valley_x)\n",
    "        \n",
    "        for i in range(0,min_cycle - 2,2):\n",
    "            diff = np.abs(L_valley_x[i] - R_valley_x[i]) #time diff\n",
    "            L_cycle = L_wave[L_valley_x[i]:L_valley_x[i + 2]] #two cycle\n",
    "            L_cycle_cut = [L_wave[L_valley_x[i]:L_valley_x[i + 1]], L_wave[L_valley_x[i + 1]:L_valley_x[i + 2]]] #divide 2\n",
    "\n",
    "            L_peaks_x, L_peaks_y = find_peaks(L_cycle, height=0, distance=500)\n",
    "            L_peaks_y = L_peaks_y['peak_heights']\n",
    "            L_peak = [L_peaks_x, L_peaks_y]\n",
    "\n",
    "            R_cycle = R_wave[L_valley_x[i]:L_valley_x[i + 2]]\n",
    "            R_cycle_cut = [R_wave[R_valley_x[i]:R_valley_x[i + 1]], R_wave[R_valley_x[i + 1]:R_valley_x[i + 2]]]  # vivide 2\n",
    "\n",
    "            R_peaks_x, R_peaks_y = find_peaks(R_cycle, height=0, distance=500)\n",
    "            R_peaks_y = R_peaks_y['peak_heights']\n",
    "            R_peak = [R_peaks_x, R_peaks_y]\n",
    "\n",
    "            if len(L_cycle) < 1100 or len(L_peaks_y) != 2 or len(R_peaks_y) != 2 or len(R_cycle) < 1100:\n",
    "                continue\n",
    "\n",
    "            if L_peaks_y[0] < 0.5:\n",
    "                L_cycle *= 0.5 / L_peaks_y[0]\n",
    "                L_peaks_y[0] = 0.5\n",
    "                L_peaks_y[1] = 0.5\n",
    "\n",
    "            if R_peaks_y[0] < 0.5:\n",
    "                R_cycle *= 0.5 / R_peaks_y[0]\n",
    "                R_peaks_y[0] = 0.5\n",
    "                R_peaks_y[1] = 0.5\n",
    "            resize_wave(L_cycle, Name, i,\"Left\", 2000 )\n",
    "            resize_wave(R_cycle, Name, i, \"Right\", 2000 )\n",
    "\n"
   ]
  },
  {
   "cell_type": "code",
   "execution_count": 945,
   "metadata": {},
   "outputs": [],
   "source": [
    "# def main(): #!for single data\n",
    "#     channel1_id = 2\n",
    "#     channel2_id = 4\n",
    "#     record_id = 1\n",
    "\n",
    "#     Name = 'test'\n",
    "    \n",
    "#     path = \"F:\\\\正常人Data\\\\Normal1\\\\四下午\\\\Normal1.adicht\"\n",
    "#     Data = adi.read_file(path)\n",
    "\n",
    "#     Right = Data.channels[channel1_id - 1].get_data(record_id)\n",
    "#     Left = Data.channels[channel2_id - 1].get_data(record_id)\n",
    "\n",
    "#     Filter_Left,Filter_Right = butter(Left, Right, 0.5, 9, 1000, 4)\n",
    "\n",
    "#     L_wave = Filter_Left[100000:120000] * 10\n",
    "#     R_wave = Filter_Right[100000:120000] * 10\n",
    "\n",
    "#     L_valley_x, L_valley_y = find_peaks(L_wave * -1, height=0, distance=150)\n",
    "#     R_valley_x, R_valley_y = find_peaks(R_wave * -1, height=0, distance=150)\n",
    "\n",
    "#     L_valley_y = L_valley_y['peak_heights']\n",
    "#     R_valley_y = R_valley_y['peak_heights']\n",
    "\n",
    "#     if len(L_valley_x) > len(R_valley_x): #找最小的cycle\n",
    "#         min_cycle = len(R_valley_x)\n",
    "#     else:\n",
    "#         min_cycle = len(L_valley_x)\n",
    "    \n",
    "#     for i in range(0,min_cycle - 2,2):\n",
    "#         diff = np.abs(L_valley_x[i] - R_valley_x[i]) #time diff\n",
    "#         L_cycle = L_wave[L_valley_x[i]:L_valley_x[i + 2]] #two cycle\n",
    "#         L_cycle_cut = [L_wave[L_valley_x[i]:L_valley_x[i + 1]], L_wave[L_valley_x[i + 1]:L_valley_x[i + 2]]] #divide 2\n",
    "\n",
    "#         L_peaks_x, L_peaks_y = find_peaks(L_cycle, height=0, distance=500)\n",
    "#         L_peaks_y = L_peaks_y['peak_heights']\n",
    "#         L_peak = [L_peaks_x, L_peaks_y]\n",
    "\n",
    "#         R_cycle = R_wave[L_valley_x[i]:L_valley_x[i + 2]]\n",
    "#         R_cycle_cut = [R_wave[R_valley_x[i]:R_valley_x[i + 1]], R_wave[R_valley_x[i + 1]:R_valley_x[i + 2]]]  # vivide 2\n",
    "\n",
    "#         R_peaks_x, R_peaks_y = find_peaks(R_cycle, height=0, distance=500)\n",
    "#         R_peaks_y = R_peaks_y['peak_heights']\n",
    "#         R_peak = [R_peaks_x, R_peaks_y]\n",
    "\n",
    "#         if len(L_cycle) < 1100 or len(L_peaks_y) != 2 or len(R_peaks_y) != 2 or len(R_cycle) < 1100:\n",
    "#             continue\n",
    "\n",
    "#         if L_peaks_y[0] < 0.5:\n",
    "#             L_cycle *= 0.5 / L_peaks_y[0]\n",
    "#             L_peaks_y[0] = 0.5\n",
    "#             L_peaks_y[1] = 0.5\n",
    "\n",
    "#         if R_peaks_y[0] < 0.5:\n",
    "#             R_cycle *= 0.5 / R_peaks_y[0]\n",
    "#             R_peaks_y[0] = 0.5\n",
    "#             R_peaks_y[1] = 0.5\n",
    "        \n",
    "\n",
    "#         resize_wave(L_cycle, R_cycle, Name, i, 2000)\n"
   ]
  },
  {
   "cell_type": "code",
   "execution_count": 946,
   "metadata": {},
   "outputs": [
    {
     "name": "stdout",
     "output_type": "stream",
     "text": [
      "找到資料筆數 63\n"
     ]
    },
    {
     "name": "stderr",
     "output_type": "stream",
     "text": [
      "Processing:   0%|          | 0/63 [00:00<?, ?it/s]"
     ]
    },
    {
     "name": "stdout",
     "output_type": "stream",
     "text": [
      "Normal1, 5th Right cant find the feature\n",
      "Normal1, 9th Right cant find the feature\n"
     ]
    },
    {
     "name": "stderr",
     "output_type": "stream",
     "text": [
      "Processing:  11%|█         | 7/63 [00:00<00:05,  9.35it/s]"
     ]
    },
    {
     "name": "stdout",
     "output_type": "stream",
     "text": [
      "Normal15, 5th Right cant find the feature\n",
      "Normal15, 13th Right cant find the feature\n",
      "Normal17, 13th Left cant find the feature\n",
      "Normal17, 13th Right cant find the feature\n",
      "Normal17, 19th Left cant find the feature\n"
     ]
    },
    {
     "name": "stderr",
     "output_type": "stream",
     "text": [
      "Processing:  14%|█▍        | 9/63 [00:01<00:09,  5.57it/s]"
     ]
    },
    {
     "name": "stdout",
     "output_type": "stream",
     "text": [
      "Normal17, 19th Right cant find the feature\n",
      "Normal17, 23th Left cant find the feature\n",
      "Normal17, 23th Right cant find the feature\n"
     ]
    },
    {
     "name": "stderr",
     "output_type": "stream",
     "text": [
      "Processing:  17%|█▋        | 11/63 [00:01<00:09,  5.58it/s]"
     ]
    },
    {
     "name": "stdout",
     "output_type": "stream",
     "text": [
      "Normal19, 5th Right cant find the feature\n",
      "Normal19, 13th Left cant find the feature\n",
      "Normal19, 13th Right cant find the feature\n"
     ]
    },
    {
     "name": "stderr",
     "output_type": "stream",
     "text": [
      "Processing:  30%|███       | 19/63 [00:02<00:05,  8.51it/s]"
     ]
    },
    {
     "name": "stdout",
     "output_type": "stream",
     "text": [
      "Normal26, 27th Left cant find the feature\n",
      "Normal26, 33th Left cant find the feature\n",
      "Normal26, 33th Right cant find the feature\n",
      "Normal27, 1th Left cant find the feature\n",
      "Normal27, 1th Right cant find the feature\n",
      "Normal27, 3th Left cant find the feature\n",
      "Normal27, 3th Right cant find the feature\n",
      "Normal27, 7th Left cant find the feature\n",
      "Normal27, 7th Right cant find the feature\n",
      "Normal27, 11th Right cant find the feature\n",
      "Normal27, 17th Left cant find the feature\n",
      "Normal27, 17th Right cant find the feature\n",
      "Normal27, 19th Right cant find the feature\n",
      "Normal27, 25th Left cant find the feature\n",
      "Normal27, 25th Right cant find the feature\n",
      "Normal27, 27th Left cant find the feature\n",
      "Normal27, 27th Right cant find the feature\n",
      "Normal27, 33th Right cant find the feature\n"
     ]
    },
    {
     "name": "stderr",
     "output_type": "stream",
     "text": [
      "Processing:  33%|███▎      | 21/63 [00:03<00:11,  3.67it/s]"
     ]
    },
    {
     "name": "stdout",
     "output_type": "stream",
     "text": [
      "Normal29, 5th Left cant find the feature\n",
      "Normal29, 5th Right cant find the feature\n",
      "Normal29, 11th Left cant find the feature\n"
     ]
    },
    {
     "name": "stderr",
     "output_type": "stream",
     "text": [
      "Processing:  35%|███▍      | 22/63 [00:04<00:12,  3.16it/s]"
     ]
    },
    {
     "name": "stdout",
     "output_type": "stream",
     "text": [
      "Normal29, 11th Right cant find the feature\n",
      "Normal29, 39th Left cant find the feature\n",
      "Normal29, 39th Right cant find the feature\n",
      "Normal3, 1th Left cant find the feature\n",
      "Normal3, 1th Right cant find the feature\n",
      "Normal3, 3th Left cant find the feature\n",
      "Normal3, 3th Right cant find the feature\n",
      "Normal3, 5th Left cant find the feature\n",
      "Normal3, 5th Right cant find the feature\n",
      "Normal3, 7th Left cant find the feature\n",
      "Normal3, 7th Right cant find the feature\n",
      "Normal3, 9th Left cant find the feature\n",
      "Normal3, 9th Right cant find the feature\n",
      "Normal3, 11th Left cant find the feature\n",
      "Normal3, 11th Right cant find the feature\n",
      "Normal3, 13th Left cant find the feature\n",
      "Normal3, 13th Right cant find the feature\n",
      "Normal3, 15th Left cant find the feature\n",
      "Normal3, 15th Right cant find the feature\n",
      "Normal3, 17th Left cant find the feature\n",
      "Normal3, 17th Right cant find the feature\n",
      "Normal3, 19th Left cant find the feature\n",
      "Normal3, 19th Right cant find the feature\n",
      "Normal3, 21th Left cant find the feature\n",
      "Normal3, 21th Right cant find the feature\n",
      "Normal3, 23th Left cant find the feature\n",
      "Normal3, 23th Right cant find the feature\n",
      "Normal3, 25th Left cant find the feature\n",
      "Normal3, 25th Right cant find the feature\n"
     ]
    },
    {
     "name": "stderr",
     "output_type": "stream",
     "text": [
      "Processing:  37%|███▋      | 23/63 [00:07<00:34,  1.17it/s]"
     ]
    },
    {
     "name": "stdout",
     "output_type": "stream",
     "text": [
      "Normal3, 27th Left cant find the feature\n",
      "Normal3, 27th Right cant find the feature\n",
      "Normal30, 15th Left cant find the feature\n"
     ]
    },
    {
     "name": "stderr",
     "output_type": "stream",
     "text": [
      "Processing:  40%|███▉      | 25/63 [00:07<00:21,  1.75it/s]"
     ]
    },
    {
     "name": "stdout",
     "output_type": "stream",
     "text": [
      "Normal30, 21th Left cant find the feature\n",
      "Normal31, 3th Left cant find the feature\n",
      "Normal32, 1th Right cant find the feature\n",
      "Normal32, 3th Right cant find the feature\n",
      "Normal32, 7th Right cant find the feature\n"
     ]
    },
    {
     "name": "stderr",
     "output_type": "stream",
     "text": [
      "Processing:  44%|████▍     | 28/63 [00:08<00:11,  3.03it/s]"
     ]
    },
    {
     "name": "stdout",
     "output_type": "stream",
     "text": [
      "Normal32, 9th Right cant find the feature\n"
     ]
    },
    {
     "name": "stderr",
     "output_type": "stream",
     "text": [
      "Processing:  48%|████▊     | 30/63 [00:08<00:08,  3.90it/s]"
     ]
    },
    {
     "name": "stdout",
     "output_type": "stream",
     "text": [
      "Normal36, 11th Right cant find the feature\n",
      "Normal36, 17th Right cant find the feature\n",
      "Normal37, 7th Left cant find the feature\n",
      "Normal37, 7th Right cant find the feature\n",
      "Normal37, 11th Right cant find the feature\n"
     ]
    },
    {
     "name": "stderr",
     "output_type": "stream",
     "text": [
      "Processing:  54%|█████▍    | 34/63 [00:08<00:04,  5.80it/s]"
     ]
    },
    {
     "name": "stdout",
     "output_type": "stream",
     "text": [
      "Normal37, 13th Right cant find the feature\n"
     ]
    },
    {
     "name": "stderr",
     "output_type": "stream",
     "text": [
      "Processing:  60%|██████    | 38/63 [00:09<00:02,  8.63it/s]"
     ]
    },
    {
     "name": "stdout",
     "output_type": "stream",
     "text": [
      "Normal45, 3th Right cant find the feature\n",
      "Normal45, 5th Right cant find the feature\n",
      "Normal45, 9th Right cant find the feature\n",
      "Normal45, 11th Right cant find the feature\n",
      "Normal45, 17th Left cant find the feature\n",
      "Normal45, 17th Right cant find the feature\n",
      "Normal45, 21th Right cant find the feature\n",
      "Normal45, 23th Left cant find the feature\n",
      "Normal45, 23th Right cant find the feature\n",
      "Normal45, 25th Left cant find the feature\n",
      "Normal45, 25th Right cant find the feature\n",
      "Normal45, 27th Right cant find the feature\n"
     ]
    },
    {
     "name": "stderr",
     "output_type": "stream",
     "text": [
      "Processing:  63%|██████▎   | 40/63 [00:10<00:05,  3.88it/s]"
     ]
    },
    {
     "name": "stdout",
     "output_type": "stream",
     "text": [
      "Normal46, 13th Right cant find the feature\n",
      "Normal48, 5th Left cant find the feature\n",
      "Normal48, 7th Left cant find the feature\n",
      "Normal48, 9th Left cant find the feature\n",
      "Normal48, 11th Left cant find the feature\n",
      "Normal48, 15th Left cant find the feature\n"
     ]
    },
    {
     "name": "stderr",
     "output_type": "stream",
     "text": [
      "Processing:  65%|██████▌   | 41/63 [00:10<00:07,  3.01it/s]"
     ]
    },
    {
     "name": "stdout",
     "output_type": "stream",
     "text": [
      "Normal48, 17th Left cant find the feature\n",
      "Normal48, 19th Left cant find the feature\n",
      "Normal48, 21th Left cant find the feature\n",
      "Normal5, 1th Left cant find the feature\n",
      "Normal5, 1th Right cant find the feature\n",
      "Normal5, 3th Right cant find the feature\n",
      "Normal5, 5th Left cant find the feature\n",
      "Normal5, 5th Right cant find the feature\n",
      "Normal5, 7th Left cant find the feature\n",
      "Normal5, 7th Right cant find the feature\n",
      "Normal5, 9th Left cant find the feature\n",
      "Normal5, 9th Right cant find the feature\n",
      "Normal5, 11th Left cant find the feature\n",
      "Normal5, 11th Right cant find the feature\n",
      "Normal5, 13th Left cant find the feature\n",
      "Normal5, 13th Right cant find the feature\n",
      "Normal5, 15th Left cant find the feature\n",
      "Normal5, 15th Right cant find the feature\n",
      "Normal5, 17th Left cant find the feature\n",
      "Normal5, 17th Right cant find the feature\n",
      "Normal5, 19th Left cant find the feature\n",
      "Normal5, 19th Right cant find the feature\n",
      "Normal5, 21th Left cant find the feature\n",
      "Normal5, 21th Right cant find the feature\n",
      "Normal5, 23th Left cant find the feature\n",
      "Normal5, 23th Right cant find the feature\n",
      "Normal5, 25th Left cant find the feature\n",
      "Normal5, 25th Right cant find the feature\n",
      "Normal5, 27th Left cant find the feature\n",
      "Normal5, 27th Right cant find the feature\n"
     ]
    },
    {
     "name": "stderr",
     "output_type": "stream",
     "text": [
      "Processing:  68%|██████▊   | 43/63 [00:13<00:13,  1.47it/s]"
     ]
    },
    {
     "name": "stdout",
     "output_type": "stream",
     "text": [
      "Normal5, 29th Left cant find the feature\n",
      "Normal5, 29th Right cant find the feature\n",
      "Normal51, 1th Left cant find the feature\n",
      "Normal51, 5th Left cant find the feature\n",
      "Normal51, 7th Left cant find the feature\n",
      "Normal51, 9th Left cant find the feature\n",
      "Normal51, 11th Left cant find the feature\n",
      "Normal51, 11th Right cant find the feature\n",
      "Normal51, 13th Left cant find the feature\n",
      "Normal51, 13th Right cant find the feature\n",
      "Normal51, 15th Left cant find the feature\n",
      "Normal51, 15th Right cant find the feature\n",
      "Normal51, 17th Left cant find the feature\n",
      "Normal51, 17th Right cant find the feature\n",
      "Normal51, 19th Left cant find the feature\n"
     ]
    },
    {
     "name": "stderr",
     "output_type": "stream",
     "text": [
      "Processing:  75%|███████▍  | 47/63 [00:15<00:07,  2.12it/s]"
     ]
    },
    {
     "name": "stdout",
     "output_type": "stream",
     "text": [
      "Normal51, 19th Right cant find the feature\n",
      "Normal51, 25th Right cant find the feature\n",
      "Normal55, 1th Left cant find the feature\n",
      "Normal55, 1th Right cant find the feature\n",
      "Normal55, 3th Left cant find the feature\n",
      "Normal55, 3th Right cant find the feature\n",
      "Normal55, 7th Left cant find the feature\n",
      "Normal55, 7th Right cant find the feature\n",
      "Normal55, 9th Left cant find the feature\n",
      "Normal55, 9th Right cant find the feature\n",
      "Normal55, 19th Left cant find the feature\n",
      "Normal55, 19th Right cant find the feature\n",
      "Normal55, 29th Left cant find the feature\n",
      "Normal55, 29th Right cant find the feature\n",
      "Normal55, 35th Left cant find the feature\n",
      "Normal55, 35th Right cant find the feature\n",
      "Normal55, 37th Left cant find the feature\n"
     ]
    },
    {
     "name": "stderr",
     "output_type": "stream",
     "text": [
      "Processing:  81%|████████  | 51/63 [00:16<00:05,  2.35it/s]"
     ]
    },
    {
     "name": "stdout",
     "output_type": "stream",
     "text": [
      "Normal55, 37th Right cant find the feature\n"
     ]
    },
    {
     "name": "stderr",
     "output_type": "stream",
     "text": [
      "Processing:  87%|████████▋ | 55/63 [00:17<00:02,  3.66it/s]"
     ]
    },
    {
     "name": "stdout",
     "output_type": "stream",
     "text": [
      "Normal60, 13th Right cant find the feature\n",
      "Normal60, 25th Left cant find the feature\n",
      "Normal60, 25th Right cant find the feature\n"
     ]
    },
    {
     "name": "stderr",
     "output_type": "stream",
     "text": [
      "Processing:  90%|█████████ | 57/63 [00:17<00:01,  4.79it/s]"
     ]
    },
    {
     "name": "stdout",
     "output_type": "stream",
     "text": [
      "Normal63, 15th Right cant find the feature\n",
      "Normal63, 17th Right cant find the feature\n",
      "Normal63, 21th Right cant find the feature\n"
     ]
    },
    {
     "name": "stderr",
     "output_type": "stream",
     "text": [
      "Processing:  95%|█████████▌| 60/63 [00:18<00:00,  4.68it/s]"
     ]
    },
    {
     "name": "stdout",
     "output_type": "stream",
     "text": [
      "Normal65, 3th Left cant find the feature\n",
      "Normal65, 3th Right cant find the feature\n",
      "Normal65, 15th Right cant find the feature\n",
      "Normal7, 7th Left cant find the feature\n",
      "Normal7, 7th Right cant find the feature\n",
      "Normal7, 23th Left cant find the feature\n",
      "Normal7, 23th Right cant find the feature\n",
      "Normal7, 27th Left cant find the feature\n",
      "Normal7, 27th Right cant find the feature\n",
      "Normal7, 29th Left cant find the feature\n",
      "Normal7, 29th Right cant find the feature\n",
      "Normal7, 35th Left cant find the feature\n"
     ]
    },
    {
     "name": "stderr",
     "output_type": "stream",
     "text": [
      "Processing:  97%|█████████▋| 61/63 [00:18<00:00,  3.02it/s]"
     ]
    },
    {
     "name": "stdout",
     "output_type": "stream",
     "text": [
      "Normal7, 35th Right cant find the feature\n",
      "Normal9, 1th Left cant find the feature\n",
      "Normal9, 1th Right cant find the feature\n",
      "Normal9, 3th Left cant find the feature\n",
      "Normal9, 3th Right cant find the feature\n",
      "Normal9, 5th Left cant find the feature\n",
      "Normal9, 5th Right cant find the feature\n",
      "Normal9, 7th Left cant find the feature\n",
      "Normal9, 9th Left cant find the feature\n",
      "Normal9, 9th Right cant find the feature\n",
      "Normal9, 11th Left cant find the feature\n",
      "Normal9, 11th Right cant find the feature\n",
      "Normal9, 13th Left cant find the feature\n",
      "Normal9, 13th Right cant find the feature\n",
      "Normal9, 15th Left cant find the feature\n",
      "Normal9, 17th Left cant find the feature\n",
      "Normal9, 17th Right cant find the feature\n",
      "Normal9, 19th Left cant find the feature\n",
      "Normal9, 19th Right cant find the feature\n",
      "Normal9, 21th Left cant find the feature\n",
      "Normal9, 21th Right cant find the feature\n",
      "Normal9, 23th Left cant find the feature\n",
      "Normal9, 23th Right cant find the feature\n",
      "Normal9, 25th Left cant find the feature\n",
      "Normal9, 25th Right cant find the feature\n",
      "Normal9, 29th Left cant find the feature\n"
     ]
    },
    {
     "name": "stderr",
     "output_type": "stream",
     "text": [
      "Processing: 100%|██████████| 63/63 [00:21<00:00,  2.99it/s]"
     ]
    },
    {
     "name": "stdout",
     "output_type": "stream",
     "text": [
      "Normal9, 29th Right cant find the feature\n"
     ]
    },
    {
     "name": "stderr",
     "output_type": "stream",
     "text": [
      "\n"
     ]
    }
   ],
   "source": [
    "if __name__ == '__main__':\n",
    "    main()"
   ]
  },
  {
   "cell_type": "code",
   "execution_count": 947,
   "metadata": {},
   "outputs": [
    {
     "data": {
      "text/plain": [
       "\"\\n65 3th\\n16 7th\\n16 1th\\n15 1th\\n32 7th\\n31 3th\\n29 5th\\n55 all\\n51 all\\n5 all\\n48 all\\n42 can't use \\n41 can't use\\n3 all\\n27 all\\n\\n\""
      ]
     },
     "execution_count": 947,
     "metadata": {},
     "output_type": "execute_result"
    }
   ],
   "source": [
    "'''\n",
    "65 3th\n",
    "16 7th\n",
    "16 1th\n",
    "15 1th\n",
    "32 7th\n",
    "31 3th\n",
    "29 5th\n",
    "55 all\n",
    "51 all\n",
    "5 all\n",
    "48 all\n",
    "42 can't use \n",
    "41 can't use\n",
    "3 all\n",
    "27 all\n",
    "\n",
    "'''"
   ]
  }
 ],
 "metadata": {
  "kernelspec": {
   "display_name": "pytorch",
   "language": "python",
   "name": "python3"
  },
  "language_info": {
   "codemirror_mode": {
    "name": "ipython",
    "version": 3
   },
   "file_extension": ".py",
   "mimetype": "text/x-python",
   "name": "python",
   "nbconvert_exporter": "python",
   "pygments_lexer": "ipython3",
   "version": "3.11.5"
  }
 },
 "nbformat": 4,
 "nbformat_minor": 2
}
